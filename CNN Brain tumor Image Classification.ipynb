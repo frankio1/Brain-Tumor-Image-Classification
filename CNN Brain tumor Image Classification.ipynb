{
 "cells": [
  {
   "cell_type": "code",
   "execution_count": 1,
   "id": "e39504f4",
   "metadata": {},
   "outputs": [],
   "source": [
    "# Importing necessary libraries\n",
    "import os\n",
    "from sklearn.utils import shuffle\n",
    "from sklearn.model_selection import train_test_split\n",
    "import ipywidgets as widgets\n",
    "import matplotlib.pyplot as plt\n",
    "from tqdm import tqdm\n",
    "import keras\n",
    "from keras.models import Sequential\n",
    "from keras.layers import Conv2D,Flatten,Dense,MaxPooling2D,Dropout\n",
    "from sklearn.metrics import accuracy_score\n",
    "import io\n",
    "from PIL import Image\n",
    "import tqdm\n",
    "import cv2\n",
    "import tensorflow as tf\n",
    "import matplotlib.pyplot as plt\n",
    "import seaborn as sns\n",
    "import numpy as np\n",
    "import pandas as pd\n",
    "from tensorflow.keras.preprocessing.image import ImageDataGenerator\n",
    "from tensorflow.keras.callbacks import EarlyStopping, ReduceLROnPlateau, TensorBoard, ModelCheckpoint\n",
    "from sklearn.metrics import classification_report,confusion_matrix"
   ]
  },
  {
   "cell_type": "markdown",
   "id": "d2300d12",
   "metadata": {},
   "source": [
    "#### Specifying our Image data Paths"
   ]
  },
  {
   "cell_type": "code",
   "execution_count": 2,
   "id": "d7134a4b",
   "metadata": {},
   "outputs": [],
   "source": [
    "train_path = \"C:/Users/Franks/Desktop/APPLIED AI 3_4_2023/Training\" \n",
    "test_path = \"C:/Users/Franks/Desktop/APPLIED AI 3_4_2023/Testing\""
   ]
  },
  {
   "cell_type": "markdown",
   "id": "5d943df3",
   "metadata": {},
   "source": [
    "#### Defining Our output Labels"
   ]
  },
  {
   "cell_type": "code",
   "execution_count": 3,
   "id": "41989e21",
   "metadata": {},
   "outputs": [],
   "source": [
    "labels = ['glioma_tumor','no_tumor','meningioma_tumor','pituitary_tumor']"
   ]
  },
  {
   "cell_type": "markdown",
   "id": "0dff4b8f",
   "metadata": {},
   "source": [
    "Appending images from the directories into a Python list and then converting them into numpy arrays after resizing it.\n"
   ]
  },
  {
   "cell_type": "code",
   "execution_count": 4,
   "id": "6ee363bb",
   "metadata": {},
   "outputs": [],
   "source": [
    "X_train = []\n",
    "y_train = []\n",
    "image_size = 150\n",
    "labels = ['glioma_tumor','meningioma_tumor','no_tumor','pituitary_tumor']\n",
    "for i in labels:\n",
    "    folderPath = os.path.join(train_path,i)\n",
    "    for j in os.listdir(folderPath):\n",
    "        img = cv2.imread(os.path.join(folderPath,j))\n",
    "        img = cv2.resize(img,(image_size,image_size))\n",
    "        X_train.append(img)\n",
    "        y_train.append(i)"
   ]
  },
  {
   "cell_type": "code",
   "execution_count": 5,
   "id": "f3855e41",
   "metadata": {},
   "outputs": [],
   "source": [
    "for i in labels:\n",
    "    folderPath = os.path.join(test_path,i)\n",
    "    for j in os.listdir(folderPath):\n",
    "        img = cv2.imread(os.path.join(folderPath,j))\n",
    "        img = cv2.resize(img,(image_size,image_size))\n",
    "        X_train.append(img)\n",
    "        y_train.append(i)"
   ]
  },
  {
   "cell_type": "code",
   "execution_count": 6,
   "id": "e7ae3cdb",
   "metadata": {},
   "outputs": [],
   "source": [
    "# converting them into numpy arrays after resizing.\n",
    "X_train = np.array(X_train)\n",
    "y_train = np.array(y_train)"
   ]
  },
  {
   "cell_type": "markdown",
   "id": "027cfac0",
   "metadata": {},
   "source": [
    "Reshuffling the training data to prevent any sytematic orderings that can affect the training process"
   ]
  },
  {
   "cell_type": "code",
   "execution_count": 7,
   "id": "b24661f7",
   "metadata": {},
   "outputs": [],
   "source": [
    "# reshuffle the train data with a random state of 101\n",
    "X_train,y_train = shuffle(X_train,y_train,random_state=101)"
   ]
  },
  {
   "cell_type": "code",
   "execution_count": 8,
   "id": "d1b2aa1b",
   "metadata": {},
   "outputs": [
    {
     "data": {
      "text/plain": [
       "(3264, 150, 150, 3)"
      ]
     },
     "execution_count": 8,
     "metadata": {},
     "output_type": "execute_result"
    }
   ],
   "source": [
    "# Checking the shape\n",
    "X_train.shape"
   ]
  },
  {
   "cell_type": "markdown",
   "id": "9d2e9ab2",
   "metadata": {},
   "source": [
    "#### Performing our train test split"
   ]
  },
  {
   "cell_type": "code",
   "execution_count": 9,
   "id": "4e5ba4f8",
   "metadata": {},
   "outputs": [],
   "source": [
    "# Splitting our dataset\n",
    "X_train,X_test,y_train,y_test = train_test_split(X_train,y_train,test_size=0.1,random_state=101)"
   ]
  },
  {
   "cell_type": "markdown",
   "id": "7e8603d8",
   "metadata": {},
   "source": [
    "Performing One Hot Encoding on the labels after converting them into numerical values:"
   ]
  },
  {
   "cell_type": "code",
   "execution_count": 10,
   "id": "154127c4",
   "metadata": {},
   "outputs": [],
   "source": [
    "# one hot encoding on the train data\n",
    "y_train_new = []\n",
    "for i in y_train:\n",
    "    y_train_new.append(labels.index(i))\n",
    "y_train=y_train_new\n",
    "y_train = tf.keras.utils.to_categorical(y_train)"
   ]
  },
  {
   "cell_type": "code",
   "execution_count": 11,
   "id": "13d5967e",
   "metadata": {},
   "outputs": [],
   "source": [
    "# one hot encoding on the train data\n",
    "y_test_new = []\n",
    "for i in y_test:\n",
    "    y_test_new.append(labels.index(i))\n",
    "y_test=y_test_new\n",
    "y_test = tf.keras.utils.to_categorical(y_test)"
   ]
  },
  {
   "cell_type": "markdown",
   "id": "e50dc869",
   "metadata": {},
   "source": [
    "#### Importing and defining our CNN model"
   ]
  },
  {
   "cell_type": "markdown",
   "id": "a9dde97a",
   "metadata": {},
   "source": [
    "Constructor Stage"
   ]
  },
  {
   "cell_type": "code",
   "execution_count": 12,
   "id": "a1ac7ffe",
   "metadata": {},
   "outputs": [],
   "source": [
    "model = Sequential()\n",
    "model.add(Conv2D(32,(3,3),activation = 'relu',input_shape=(150,150,3)))\n",
    "model.add(Conv2D(64,(3,3),activation='relu'))\n",
    "model.add(MaxPooling2D(2,2))\n",
    "model.add(Dropout(0.3))\n",
    "model.add(Conv2D(64,(3,3),activation='relu'))\n",
    "model.add(Conv2D(64,(3,3),activation='relu'))\n",
    "model.add(Dropout(0.3))\n",
    "model.add(MaxPooling2D(2,2))\n",
    "model.add(Dropout(0.3))\n",
    "model.add(Conv2D(128,(3,3),activation='relu'))\n",
    "model.add(Conv2D(128,(3,3),activation='relu'))\n",
    "model.add(Conv2D(128,(3,3),activation='relu'))\n",
    "model.add(MaxPooling2D(2,2))\n",
    "model.add(Dropout(0.3))\n",
    "model.add(Conv2D(128,(3,3),activation='relu'))\n",
    "model.add(Conv2D(256,(3,3),activation='relu'))\n",
    "model.add(MaxPooling2D(2,2))\n",
    "model.add(Dropout(0.3))\n",
    "model.add(Flatten())\n",
    "model.add(Dense(512,activation = 'relu'))\n",
    "model.add(Dense(512,activation = 'relu'))\n",
    "model.add(Dropout(0.3))\n",
    "model.add(Dense(4,activation='softmax'))"
   ]
  },
  {
   "cell_type": "code",
   "execution_count": 26,
   "id": "2d720a33",
   "metadata": {},
   "outputs": [
    {
     "name": "stdout",
     "output_type": "stream",
     "text": [
      "Model: \"sequential\"\n",
      "_________________________________________________________________\n",
      " Layer (type)                Output Shape              Param #   \n",
      "=================================================================\n",
      " conv2d (Conv2D)             (None, 148, 148, 32)      896       \n",
      "                                                                 \n",
      " conv2d_1 (Conv2D)           (None, 146, 146, 64)      18496     \n",
      "                                                                 \n",
      " max_pooling2d (MaxPooling2D  (None, 73, 73, 64)       0         \n",
      " )                                                               \n",
      "                                                                 \n",
      " dropout (Dropout)           (None, 73, 73, 64)        0         \n",
      "                                                                 \n",
      " conv2d_2 (Conv2D)           (None, 71, 71, 64)        36928     \n",
      "                                                                 \n",
      " conv2d_3 (Conv2D)           (None, 69, 69, 64)        36928     \n",
      "                                                                 \n",
      " dropout_1 (Dropout)         (None, 69, 69, 64)        0         \n",
      "                                                                 \n",
      " max_pooling2d_1 (MaxPooling  (None, 34, 34, 64)       0         \n",
      " 2D)                                                             \n",
      "                                                                 \n",
      " dropout_2 (Dropout)         (None, 34, 34, 64)        0         \n",
      "                                                                 \n",
      " conv2d_4 (Conv2D)           (None, 32, 32, 128)       73856     \n",
      "                                                                 \n",
      " conv2d_5 (Conv2D)           (None, 30, 30, 128)       147584    \n",
      "                                                                 \n",
      " conv2d_6 (Conv2D)           (None, 28, 28, 128)       147584    \n",
      "                                                                 \n",
      " max_pooling2d_2 (MaxPooling  (None, 14, 14, 128)      0         \n",
      " 2D)                                                             \n",
      "                                                                 \n",
      " dropout_3 (Dropout)         (None, 14, 14, 128)       0         \n",
      "                                                                 \n",
      " conv2d_7 (Conv2D)           (None, 12, 12, 128)       147584    \n",
      "                                                                 \n",
      " conv2d_8 (Conv2D)           (None, 10, 10, 256)       295168    \n",
      "                                                                 \n",
      " max_pooling2d_3 (MaxPooling  (None, 5, 5, 256)        0         \n",
      " 2D)                                                             \n",
      "                                                                 \n",
      " dropout_4 (Dropout)         (None, 5, 5, 256)         0         \n",
      "                                                                 \n",
      " flatten (Flatten)           (None, 6400)              0         \n",
      "                                                                 \n",
      " dense (Dense)               (None, 512)               3277312   \n",
      "                                                                 \n",
      " dense_1 (Dense)             (None, 512)               262656    \n",
      "                                                                 \n",
      " dropout_5 (Dropout)         (None, 512)               0         \n",
      "                                                                 \n",
      " dense_2 (Dense)             (None, 4)                 2052      \n",
      "                                                                 \n",
      "=================================================================\n",
      "Total params: 4,447,044\n",
      "Trainable params: 4,447,044\n",
      "Non-trainable params: 0\n",
      "_________________________________________________________________\n"
     ]
    }
   ],
   "source": [
    "model.summary()"
   ]
  },
  {
   "cell_type": "markdown",
   "id": "3b36f47f",
   "metadata": {},
   "source": [
    "Compilation Stage"
   ]
  },
  {
   "cell_type": "code",
   "execution_count": 13,
   "id": "cd08e83c",
   "metadata": {},
   "outputs": [],
   "source": [
    "model.compile(loss='categorical_crossentropy',optimizer='Adam',metrics=['accuracy'])"
   ]
  },
  {
   "cell_type": "markdown",
   "id": "c683f724",
   "metadata": {},
   "source": [
    "Training Stage"
   ]
  },
  {
   "cell_type": "code",
   "execution_count": 14,
   "id": "f3035b5a",
   "metadata": {},
   "outputs": [
    {
     "name": "stdout",
     "output_type": "stream",
     "text": [
      "Epoch 1/30\n",
      "83/83 [==============================] - 308s 4s/step - loss: 3.3406 - accuracy: 0.2913 - val_loss: 1.3627 - val_accuracy: 0.2959\n",
      "Epoch 2/30\n",
      "83/83 [==============================] - 305s 4s/step - loss: 1.2595 - accuracy: 0.4215 - val_loss: 1.0892 - val_accuracy: 0.5102\n",
      "Epoch 3/30\n",
      "83/83 [==============================] - 301s 4s/step - loss: 1.0604 - accuracy: 0.5335 - val_loss: 0.9870 - val_accuracy: 0.5476\n",
      "Epoch 4/30\n",
      "83/83 [==============================] - 298s 4s/step - loss: 0.9370 - accuracy: 0.6073 - val_loss: 0.8700 - val_accuracy: 0.6190\n",
      "Epoch 5/30\n",
      "83/83 [==============================] - 317s 4s/step - loss: 0.8300 - accuracy: 0.6659 - val_loss: 0.8968 - val_accuracy: 0.5816\n",
      "Epoch 6/30\n",
      "83/83 [==============================] - 303s 4s/step - loss: 0.7531 - accuracy: 0.6863 - val_loss: 0.8448 - val_accuracy: 0.6156\n",
      "Epoch 7/30\n",
      "83/83 [==============================] - 298s 4s/step - loss: 0.6649 - accuracy: 0.7348 - val_loss: 0.7481 - val_accuracy: 0.6769\n",
      "Epoch 8/30\n",
      "83/83 [==============================] - 302s 4s/step - loss: 0.5815 - accuracy: 0.7556 - val_loss: 0.7134 - val_accuracy: 0.7007\n",
      "Epoch 9/30\n",
      "83/83 [==============================] - 295s 4s/step - loss: 0.5115 - accuracy: 0.7976 - val_loss: 0.5716 - val_accuracy: 0.7653\n",
      "Epoch 10/30\n",
      "83/83 [==============================] - 330s 4s/step - loss: 0.4493 - accuracy: 0.8222 - val_loss: 0.4944 - val_accuracy: 0.7857\n",
      "Epoch 11/30\n",
      "83/83 [==============================] - 328s 4s/step - loss: 0.3779 - accuracy: 0.8558 - val_loss: 0.4738 - val_accuracy: 0.8299\n",
      "Epoch 12/30\n",
      "83/83 [==============================] - 343s 4s/step - loss: 0.3644 - accuracy: 0.8668 - val_loss: 0.4772 - val_accuracy: 0.8061\n",
      "Epoch 13/30\n",
      "83/83 [==============================] - 321s 4s/step - loss: 0.3092 - accuracy: 0.8933 - val_loss: 0.4554 - val_accuracy: 0.8129\n",
      "Epoch 14/30\n",
      "83/83 [==============================] - 324s 4s/step - loss: 0.2490 - accuracy: 0.9126 - val_loss: 0.3710 - val_accuracy: 0.8469\n",
      "Epoch 15/30\n",
      "83/83 [==============================] - 300s 4s/step - loss: 0.2613 - accuracy: 0.9058 - val_loss: 0.3731 - val_accuracy: 0.8673\n",
      "Epoch 16/30\n",
      "83/83 [==============================] - 285s 3s/step - loss: 0.2414 - accuracy: 0.9164 - val_loss: 0.3544 - val_accuracy: 0.8741\n",
      "Epoch 17/30\n",
      "83/83 [==============================] - 298s 4s/step - loss: 0.2030 - accuracy: 0.9292 - val_loss: 0.3008 - val_accuracy: 0.8810\n",
      "Epoch 18/30\n",
      "83/83 [==============================] - 282s 3s/step - loss: 0.1875 - accuracy: 0.9323 - val_loss: 0.2779 - val_accuracy: 0.9048\n",
      "Epoch 19/30\n",
      "83/83 [==============================] - 283s 3s/step - loss: 0.1711 - accuracy: 0.9345 - val_loss: 0.2461 - val_accuracy: 0.9116\n",
      "Epoch 20/30\n",
      "83/83 [==============================] - 283s 3s/step - loss: 0.1804 - accuracy: 0.9398 - val_loss: 0.3004 - val_accuracy: 0.8878\n",
      "Epoch 21/30\n",
      "83/83 [==============================] - 292s 4s/step - loss: 0.1568 - accuracy: 0.9432 - val_loss: 0.2648 - val_accuracy: 0.8980\n",
      "Epoch 22/30\n",
      "83/83 [==============================] - 292s 4s/step - loss: 0.1690 - accuracy: 0.9406 - val_loss: 0.2851 - val_accuracy: 0.8741\n",
      "Epoch 23/30\n",
      "83/83 [==============================] - 284s 3s/step - loss: 0.1458 - accuracy: 0.9519 - val_loss: 0.3077 - val_accuracy: 0.8980\n",
      "Epoch 24/30\n",
      "83/83 [==============================] - 278s 3s/step - loss: 0.1550 - accuracy: 0.9493 - val_loss: 0.2905 - val_accuracy: 0.9082\n",
      "Epoch 25/30\n",
      "83/83 [==============================] - 278s 3s/step - loss: 0.1181 - accuracy: 0.9610 - val_loss: 0.3352 - val_accuracy: 0.9116\n",
      "Epoch 26/30\n",
      "83/83 [==============================] - 279s 3s/step - loss: 0.1010 - accuracy: 0.9675 - val_loss: 0.3042 - val_accuracy: 0.9150\n",
      "Epoch 27/30\n",
      "83/83 [==============================] - 281s 3s/step - loss: 0.1125 - accuracy: 0.9622 - val_loss: 0.2863 - val_accuracy: 0.9184\n",
      "Epoch 28/30\n",
      "83/83 [==============================] - 281s 3s/step - loss: 0.0894 - accuracy: 0.9716 - val_loss: 0.3383 - val_accuracy: 0.9082\n",
      "Epoch 29/30\n",
      "83/83 [==============================] - 279s 3s/step - loss: 0.0973 - accuracy: 0.9678 - val_loss: 0.3468 - val_accuracy: 0.9014\n",
      "Epoch 30/30\n",
      "83/83 [==============================] - 277s 3s/step - loss: 0.0984 - accuracy: 0.9671 - val_loss: 0.2584 - val_accuracy: 0.9184\n"
     ]
    }
   ],
   "source": [
    "history = model.fit(X_train,y_train,epochs=30,validation_split=0.1)"
   ]
  },
  {
   "cell_type": "markdown",
   "id": "2bee69ee",
   "metadata": {},
   "source": [
    "#### Visualising Results"
   ]
  },
  {
   "cell_type": "code",
   "execution_count": 29,
   "id": "bb0bae74",
   "metadata": {},
   "outputs": [
    {
     "data": {
      "image/png": "[encoded data removed]",
      "text/plain": [
       "<Figure size 1008x504 with 1 Axes>"
      ]
     },
     "metadata": {
      "needs_background": "light"
     },
     "output_type": "display_data"
    }
   ],
   "source": [
    "acc = history.history['accuracy']\n",
    "val_acc = history.history['val_accuracy']\n",
    "epochs = range(len(acc))\n",
    "fig = plt.figure(figsize=(14,7))\n",
    "plt.plot(epochs,acc,'r',label=\"Training Accuracy\")\n",
    "plt.plot(epochs,val_acc,'b',label=\"Validation Accuracy\")\n",
    "plt.legend(loc='upper left')\n",
    "plt.show()"
   ]
  },
  {
   "cell_type": "code",
   "execution_count": 30,
   "id": "a444976b",
   "metadata": {},
   "outputs": [
    {
     "data": {
      "image/png": "[encoded data removed]",
      "text/plain": [
       "<Figure size 1008x504 with 1 Axes>"
      ]
     },
     "metadata": {
      "needs_background": "light"
     },
     "output_type": "display_data"
    }
   ],
   "source": [
    "loss = history.history['loss']\n",
    "val_loss = history.history['val_loss']\n",
    "epochs = range(len(loss))\n",
    "fig = plt.figure(figsize=(14,7))\n",
    "plt.plot(epochs,loss,'r',label=\"Training loss\")\n",
    "plt.plot(epochs,val_loss,'b',label=\"Validation loss\")\n",
    "plt.legend(loc='upper left')\n",
    "plt.show()"
   ]
  },
  {
   "cell_type": "markdown",
   "id": "bc4fbd21",
   "metadata": {},
   "source": [
    "#### Reading the images"
   ]
  },
  {
   "cell_type": "code",
   "execution_count": 33,
   "id": "a15bd6ad",
   "metadata": {},
   "outputs": [],
   "source": [
    "# Creating the directories to the images\n",
    "glioma_img_url = \"C:/Users/Franks/Desktop/APPLIED AI 3_4_2023/Training/glioma_tumor/gg (1).jpg\"\n",
    "meningioma_img_url = r\"C:\\Users\\Franks\\Desktop\\APPLIED AI 3_4_2023\\Training\\meningioma_tumor\\m (2).jpg\"\n",
    "no_tumor_img_url = r\"C:\\Users\\Franks\\Desktop\\APPLIED AI 3_4_2023\\Training\\no_tumor\\1.jpg\"\n",
    "pituitary_img_url = r\"C:\\Users\\Franks\\Desktop\\APPLIED AI 3_4_2023\\Training\\pituitary_tumor\\p (1).jpg\""
   ]
  },
  {
   "cell_type": "markdown",
   "id": "943931cd",
   "metadata": {},
   "source": [
    "Reading the images"
   ]
  },
  {
   "cell_type": "code",
   "execution_count": 34,
   "id": "77ef6ddc",
   "metadata": {},
   "outputs": [],
   "source": [
    "# Read Image from url \n",
    "glioma_img = cv2.imread(glioma_img_url)\n",
    "meningioma_img = cv2.imread(meningioma_img_url)\n",
    "no_tumor_img = cv2.imread(no_tumor_img_url)\n",
    "pituitary_img = cv2.imread(pituitary_img_url)"
   ]
  },
  {
   "cell_type": "code",
   "execution_count": 35,
   "id": "b1fcd9c1",
   "metadata": {},
   "outputs": [],
   "source": [
    "# Converting the images from BGR to RGB\n",
    "glioma_img = cv2.cvtColor(glioma_img,cv2.COLOR_BGR2RGB) # converting to RGB\n",
    "meningioma_img = cv2.cvtColor(meningioma_img,cv2.COLOR_BGR2RGB) # converting to RGB\n",
    "no_tumor_img = cv2.cvtColor(no_tumor_img,cv2.COLOR_BGR2RGB) # converting to RGB\n",
    "pituitary_img = cv2.cvtColor(pituitary_img,cv2.COLOR_BGR2RGB) # converting to RGB"
   ]
  },
  {
   "cell_type": "code",
   "execution_count": 36,
   "id": "19c64345",
   "metadata": {},
   "outputs": [
    {
     "data": {
      "image/png": "[encoded data removed]",
      "text/plain": [
       "<Figure size 432x288 with 1 Axes>"
      ]
     },
     "metadata": {
      "needs_background": "light"
     },
     "output_type": "display_data"
    }
   ],
   "source": [
    "# Show image\n",
    "plt.imshow(glioma_img)\n",
    "plt.show()"
   ]
  },
  {
   "cell_type": "markdown",
   "id": "d26cb0e9",
   "metadata": {},
   "source": [
    "#### Model Evaluation and Prediction"
   ]
  },
  {
   "cell_type": "code",
   "execution_count": 37,
   "id": "0a592669",
   "metadata": {},
   "outputs": [],
   "source": [
    "from sklearn.metrics import confusion_matrix\n",
    "from sklearn.metrics import accuracy_score, precision_score, recall_score, f1_score"
   ]
  },
  {
   "cell_type": "code",
   "execution_count": 38,
   "id": "275c1899",
   "metadata": {},
   "outputs": [
    {
     "name": "stdout",
     "output_type": "stream",
     "text": [
      "11/11 [==============================] - 9s 758ms/step\n"
     ]
    }
   ],
   "source": [
    "y_pred=model.predict(X_test) \n",
    "y_pred=np.argmax(y_pred, axis=1)\n",
    "y_test=np.argmax(y_test, axis=1)\n",
    "cm = confusion_matrix(y_test, y_pred)"
   ]
  },
  {
   "cell_type": "code",
   "execution_count": 39,
   "id": "7db41699",
   "metadata": {},
   "outputs": [
    {
     "name": "stdout",
     "output_type": "stream",
     "text": [
      "[[88  4  0  1]\n",
      " [15 79  0  1]\n",
      " [ 4  2 45  1]\n",
      " [ 0  1  0 86]]\n"
     ]
    }
   ],
   "source": [
    "print(cm)"
   ]
  },
  {
   "cell_type": "code",
   "execution_count": 40,
   "id": "fca9147b",
   "metadata": {},
   "outputs": [
    {
     "data": {
      "image/png": "[encoded data removed]",
      "text/plain": [
       "<Figure size 432x288 with 2 Axes>"
      ]
     },
     "metadata": {
      "needs_background": "light"
     },
     "output_type": "display_data"
    }
   ],
   "source": [
    "# Plotting the confusion matrix trend\n",
    "sns.heatmap(cm,\n",
    "            annot=True,\n",
    "            fmt='g',\n",
    "            xticklabels=['glioma_tumor','meningioma_tumor','no_tumor','pituitary_tumor'],\n",
    "            yticklabels=['glioma_tumor','meningioma_tumor','no_tumor','pituitary_tumor'])\n",
    "plt.ylabel('Prediction',fontsize=13)\n",
    "plt.xlabel('Actual',fontsize=13)\n",
    "plt.title('Confusion Matrix',fontsize=17)\n",
    "plt.show()"
   ]
  },
  {
   "cell_type": "code",
   "execution_count": 41,
   "id": "b4bc4ee0",
   "metadata": {},
   "outputs": [
    {
     "name": "stdout",
     "output_type": "stream",
     "text": [
      "Accuracy   : 0.9113149847094801\n",
      "Precision : 0.9168832993859738\n",
      "Recall    : 0.9113149847094801\n",
      "F1-score  : 0.9114321918921094\n"
     ]
    }
   ],
   "source": [
    "# Finding precision and recall\n",
    "accuracy = accuracy_score(y_test, y_pred, )\n",
    "print(\"Accuracy   :\", accuracy)\n",
    "precision = precision_score(y_test, y_pred, average='weighted')\n",
    "print(\"Precision :\", precision)\n",
    "recall = recall_score(y_test, y_pred, average='weighted')\n",
    "print(\"Recall    :\", recall)\n",
    "F1_score = f1_score(y_test, y_pred, average='weighted')\n",
    "print(\"F1-score  :\", F1_score)"
   ]
  },
  {
   "cell_type": "code",
   "execution_count": 42,
   "id": "e0b24fb6",
   "metadata": {},
   "outputs": [
    {
     "name": "stdout",
     "output_type": "stream",
     "text": [
      "                  precision    recall  f1-score   support\n",
      "\n",
      "    glioma_tumor       0.82      0.95      0.88        93\n",
      "meningioma_tumor       0.92      0.83      0.87        95\n",
      "        no_tumor       1.00      0.87      0.93        52\n",
      " pituitary_tumor       0.97      0.99      0.98        87\n",
      "\n",
      "        accuracy                           0.91       327\n",
      "       macro avg       0.93      0.91      0.91       327\n",
      "    weighted avg       0.92      0.91      0.91       327\n",
      "\n"
     ]
    }
   ],
   "source": [
    "print(classification_report(y_test,y_pred, target_names = ['glioma_tumor', 'meningioma_tumor','no_tumor', 'pituitary_tumor' ]))\n"
   ]
  },
  {
   "cell_type": "markdown",
   "id": "f51e131c",
   "metadata": {},
   "source": [
    "#### TRANSFER LEARNING"
   ]
  },
  {
   "cell_type": "markdown",
   "id": "de1a4742",
   "metadata": {},
   "source": [
    "Using Transfer learning to import Custom pretrained models for performance comparism with our custom model for any improvement"
   ]
  },
  {
   "cell_type": "markdown",
   "id": "b6282109",
   "metadata": {},
   "source": [
    "#### EfficientNetB0 Pretrained model and VGG-16 Pretrained Model performance will be imported and evaluated then compared with our custom model for improvements."
   ]
  }
 ],
 "metadata": {
  "kernelspec": {
   "display_name": "Python 3 (ipykernel)",
   "language": "python",
   "name": "python3"
  },
  "language_info": {
   "codemirror_mode": {
    "name": "ipython",
    "version": 3
   },
   "file_extension": ".py",
   "mimetype": "text/x-python",
   "name": "python",
   "nbconvert_exporter": "python",
   "pygments_lexer": "ipython3",
   "version": "3.9.12"
  }
 },
 "nbformat": 4,
 "nbformat_minor": 5
}
